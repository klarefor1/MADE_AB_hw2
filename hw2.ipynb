{
 "cells": [
  {
   "cell_type": "markdown",
   "id": "41f309f9-ed8a-4884-9439-ee82c2f3bc65",
   "metadata": {},
   "source": [
    "### Домашнее задание 2"
   ]
  },
  {
   "cell_type": "markdown",
   "id": "00e79b8f-e72b-49ec-843f-1c3ccb9ebe8c",
   "metadata": {},
   "source": [
    "В этом задании вам необходимо:\n",
    "\n",
    "1. Реализовать t-критерий Стьюдента для 2 независимых выборок при условии неизвестной дисперсии. Необходимо считать значение статистики и p_value для разных видов гипотез (двусторонняя, односторонние), а также результат (отвергается нулевая гипотеза или нет). Сравнить результаты с реализацией в scipy.stats.ttest_ind. \n",
    "2. Реализовать bootstrap для оценки (через доверительные интервалы) медианных и средних значений распределений. Рассчитать для распределений: нормальное, экспоненциальное, смесь нормальных\n",
    "3. Рассчитать мощность критерия для t-критерия и критерия Манна-Уитни для разных распределений и разном эффекте. Отдельно изучить случай, когда средние равны, а дисперсии сильно отличаются.\n",
    "4. Оценить корректность t-критерия и критерия Манна-Уитни на разных распределениях.\n",
    "\n",
    "Задание принимается в jupyter notebook"
   ]
  },
  {
   "cell_type": "code",
   "execution_count": 353,
   "id": "1917717e-f9a0-4e6c-ac63-5ce96f539089",
   "metadata": {},
   "outputs": [],
   "source": [
    "import numpy as np\n",
    "import pandas as pd\n",
    "import scipy.stats as sps\n",
    "import plotly.graph_objs as go\n",
    "from math import sqrt"
   ]
  },
  {
   "cell_type": "markdown",
   "id": "20e90d23-6941-427b-8c0f-93cf919af74d",
   "metadata": {},
   "source": [
    "### 1. T-критерий Стьюдента"
   ]
  },
  {
   "cell_type": "code",
   "execution_count": 363,
   "id": "2702e5ff-daeb-4739-ad9a-733f02d641be",
   "metadata": {},
   "outputs": [],
   "source": [
    "def get_disp_val(a):\n",
    "    return sum((a - a.mean())**2)/(len(a)-1)"
   ]
  },
  {
   "cell_type": "code",
   "execution_count": 398,
   "id": "30b2b112-a63e-4615-a6fc-d398f8c94a44",
   "metadata": {},
   "outputs": [],
   "source": [
    "def my_ttest(a_1, a_2, side='two-sided', alpha=0.05):\n",
    "    #t-statistic\n",
    "    statistic = (a_1.mean() - a_2.mean()) / sqrt(get_disp_val(a_1)/len(a_1) + get_disp_val(a_2)/len(a_2))\n",
    "    \n",
    "    #p-value\n",
    "    p_value = sps.t.sf(np.abs(statistic), len(a_1)-1)\n",
    "    \n",
    "    if side == 'two-sided':\n",
    "        p_value = p_value * 2\n",
    "    if side == 'less':\n",
    "        p_value = 1 - p_value if statistic > 0 else p_value\n",
    "    if side == 'greater':\n",
    "        p_value = p_value if statistic > 0 else 1 - p_value\n",
    "        \n",
    "    #make a decision\n",
    "    null_hypothesis_rejection = p_value < alpha\n",
    "        \n",
    "    return {'statistic': statistic, 'pvalue': p_value, 'null_hypothesis_rejection': null_hypothesis_rejection}"
   ]
  },
  {
   "cell_type": "markdown",
   "id": "ddef64ba-378d-43c6-89d7-18d3549c581c",
   "metadata": {},
   "source": [
    "#### Проверяем, что все работает\n",
    "Спойлер - есть проблемы с точностью, но, кажется, сильно ни на что не влияет.\n",
    "Это не полноценный тест. Чтобы убедиться, что работает с двух сторон, нужно поменять аргументы в sps.ttest_ind(rvs1, rvs2, alternative='less') и в my_ttest(rvs1, rvs2, side='less'). Возможно так же \"greater\""
   ]
  },
  {
   "cell_type": "code",
   "execution_count": 404,
   "id": "44929f78-48c6-4a0d-adae-e92302bb3297",
   "metadata": {
    "tags": []
   },
   "outputs": [
    {
     "name": "stdout",
     "output_type": "stream",
     "text": [
      "Something wrong with pvalue: \n",
      " my: 0.5151062383263785 lib: 0.514956336168312\n",
      "Something wrong with pvalue: \n",
      " my: 0.16506497483785823 lib: 0.16475515614501313\n",
      "Something wrong with pvalue: \n",
      " my: 0.155280727543502 lib: 0.15496834708540966\n",
      "Something wrong with pvalue: \n",
      " my: 0.1952088736572269 lib: 0.19490925877407778\n",
      "Something wrong with pvalue: \n",
      " my: 0.6450002265998096 lib: 0.6448998125127321\n"
     ]
    }
   ],
   "source": [
    "rng = np.random.default_rng()\n",
    "\n",
    "for i in range(100):\n",
    "    rvs1 = sps.norm.rvs(loc=5, scale=10, size=500, random_state=rng)\n",
    "    rvs2 = sps.norm.rvs(loc=5, scale=10, size=500, random_state=rng)\n",
    "    \n",
    "    lib_result = sps.ttest_ind(rvs1, rvs2, alternative='two-sided')\n",
    "    my_result = my_ttest(rvs1, rvs2, side='two-sided')\n",
    "    \n",
    "    if round(my_result['statistic'], 6) != round(lib_result.statistic, 6):\n",
    "        print('Something wrong with statistic')\n",
    "        \n",
    "    if round(my_result['pvalue'], 2) != round(lib_result.pvalue, 2):\n",
    "        print(f'Something wrong with pvalue: \\n my: {my_result[\"pvalue\"]} lib: {lib_result.pvalue}')"
   ]
  },
  {
   "cell_type": "markdown",
   "id": "16a614e4-9b28-4d63-a67a-2fbcd20ba0e3",
   "metadata": {},
   "source": [
    "### 2. Bootstrap и доверительные интервалы"
   ]
  },
  {
   "cell_type": "code",
   "execution_count": 444,
   "id": "e63df92d-e1c9-487c-b382-8edc944e51dd",
   "metadata": {},
   "outputs": [],
   "source": [
    "def get_bootstrap_sample_indices(sample_size: int, n_samples: int) -> np.ndarray:\n",
    "    return np.random.randint(0, sample_size, (n_samples, sample_size))\n",
    "\n",
    "def get_bootstrap_samples(X: np.ndarray, n_samples: int) -> np.ndarray:\n",
    "    return X[get_bootstrap_sample_indices(len(X), n_samples)]"
   ]
  },
  {
   "cell_type": "markdown",
   "id": "21df05c0-12a8-4828-92dc-8528b91538a3",
   "metadata": {},
   "source": [
    "#### Доверительные интервалы для нормального распределения"
   ]
  },
  {
   "cell_type": "code",
   "execution_count": 526,
   "id": "4ea17092-a732-4fa3-9ddf-40d51d87f4c3",
   "metadata": {},
   "outputs": [],
   "source": [
    "def get_CI_bootstrap(distribution):\n",
    "    median = np.median(distribution)\n",
    "    mean = np.mean(distribution)\n",
    "    \n",
    "    X_bootstrap = get_bootstrap_samples(distribution, n_samples=10_000)\n",
    "    \n",
    "    metrics_median_ar = [np.median(X_bootstrap[i]) for i in range(len(X_bootstrap))]\n",
    "    metrics_mean_ar = [np.mean(X_bootstrap[i]) for i in range(len(X_bootstrap))]\n",
    "    \n",
    "    alpha = 0.05\n",
    "    q = 0.5\n",
    "    c = sps.norm.ppf(1 - alpha/2)\n",
    "    CI_mean = (metrics_mean - c * (np.std(X_bootstrap) / sqrt(len(X_bootstrap[0]))), metrics_mean + c * (np.std(X_bootstrap) / sqrt(len(X_bootstrap[0]))))\n",
    "    CI_median = (len(X_bootstrap[0]) * q - c * sqrt(len(X_bootstrap[0]))*q*(1-q), len(X_bootstrap[0]) * q + c * sqrt(len(X_bootstrap[0]))*q*(1-q))\n",
    "    \n",
    "    return CI_mean, CI_median"
   ]
  },
  {
   "cell_type": "code",
   "execution_count": 529,
   "id": "218e7429-dbde-4a3e-976b-28db61c66f34",
   "metadata": {},
   "outputs": [],
   "source": [
    "size = 1000\n",
    "x_norm = sps.norm.rvs(loc=4, scale=10, size=size)\n",
    "distributions = [sps.norm.rvs(loc=4, scale=10, size=size),\n",
    "                 sps.expon.rvs(loc=4, scale=10, size=size),\n",
    "                 sps.norm.rvs(loc=4, scale=10, size=size) + sps.norm.rvs(loc=3, scale=5, size=size)]"
   ]
  },
  {
   "cell_type": "code",
   "execution_count": 530,
   "id": "a2f7c9f8-722a-4aa2-a7f1-0406fe6514f0",
   "metadata": {},
   "outputs": [
    {
     "name": "stdout",
     "output_type": "stream",
     "text": [
      "((array([3.44541736, 3.72676516, 3.62908879, ..., 3.68864453, 3.53727091,\n",
      "       3.63130367]), array([4.74284264, 5.02419045, 4.92651407, ..., 4.98606981, 4.8346962 ,\n",
      "       4.92872895])), (484.50512419238595, 515.494875807614))\n",
      "((array([3.520829  , 3.8021768 , 3.70450042, ..., 3.76405617, 3.61268255,\n",
      "       3.70671531]), array([4.66743101, 4.94877881, 4.85110243, ..., 4.91065817, 4.75928456,\n",
      "       4.85331731])), (484.50512419238595, 515.494875807614))\n",
      "((array([3.40168702, 3.68303483, 3.58535845, ..., 3.64491419, 3.49354058,\n",
      "       3.58757333]), array([4.78657298, 5.06792078, 4.97024441, ..., 5.02980015, 4.87842653,\n",
      "       4.97245929])), (484.50512419238595, 515.494875807614))\n"
     ]
    }
   ],
   "source": [
    "for distr in distributions:\n",
    "    print(get_CI_bootstrap(distr))"
   ]
  },
  {
   "cell_type": "markdown",
   "id": "f11d40d4-da88-4f82-b4e7-ef4054948e84",
   "metadata": {},
   "source": [
    "### 3. Мощность критериев"
   ]
  },
  {
   "cell_type": "markdown",
   "id": "6b0b47f3-9b81-4b5c-845f-bcc7322b4171",
   "metadata": {},
   "source": [
    "##### Общая функция"
   ]
  },
  {
   "cell_type": "code",
   "execution_count": 572,
   "id": "7e520df9-f5c5-48d6-9bd9-29d1c18032df",
   "metadata": {},
   "outputs": [],
   "source": [
    "def get_criterion_power(criterion, distr, effect=1, scale=3, loc=10, alpha=0.05):\n",
    "    size = 100\n",
    "    n_exp = 10_000\n",
    "    alpha = alpha\n",
    "    effect = effect\n",
    "        \n",
    "    p_values = []\n",
    "    for i in range(n_exp):\n",
    "        x_a = distr(loc=loc, scale=scale, size=size)\n",
    "        x_b = distr(loc=loc + effect, scale=scale, size=size)\n",
    "        p_value = sps.ttest_ind(x_a, x_b).pvalue\n",
    "        p_value = sps.mannwhitneyu(x_a, x_b).pvalue\n",
    "        \n",
    "        p_values.append(p_value)\n",
    "    p_values = np.array(p_values)\n",
    "    \n",
    "    return p_values[p_values < alpha].shape[0] / p_values.shape[0] * 100     "
   ]
  },
  {
   "cell_type": "markdown",
   "id": "4476e1a4-fd0b-4d97-a0db-87a52f86cbc7",
   "metadata": {},
   "source": [
    "##### Параметры, которые будут перебираться в функции выше"
   ]
  },
  {
   "cell_type": "code",
   "execution_count": 573,
   "id": "02e20eea-b7ec-4cd0-877b-80db9c81dc6a",
   "metadata": {},
   "outputs": [],
   "source": [
    "distributions = {'norm': sps.norm.rvs,\n",
    "                 'expon': sps.expon.rvs}\n",
    "\n",
    "criterions = {'t-test': sps.ttest_ind, \n",
    "              'mannwhitneyu': sps.mannwhitneyu}\n",
    "\n",
    "params = [dict(effect=1, scale=10, loc=10, alpha=0.1),\n",
    "         dict(effect=5, scale=10, loc=10, alpha=0.1),\n",
    "         dict(effect=1, scale=10, loc=10, alpha=0.01),\n",
    "         dict(effect=1, scale=10, loc=1, alpha=0.01)]"
   ]
  },
  {
   "cell_type": "markdown",
   "id": "fd658519-4287-4ae6-9bdf-6ce7597e4feb",
   "metadata": {},
   "source": [
    "##### Эксперименты"
   ]
  },
  {
   "cell_type": "code",
   "execution_count": 574,
   "id": "364605a7-ed76-4308-a6b2-7d3179881b40",
   "metadata": {
    "tags": []
   },
   "outputs": [
    {
     "name": "stdout",
     "output_type": "stream",
     "text": [
      "distr: norm\n",
      "criterion: t-test, params: {'effect': 1, 'scale': 10, 'loc': 10, 'alpha': 0.1}, power: 17.86\n",
      "criterion: t-test, params: {'effect': 5, 'scale': 10, 'loc': 10, 'alpha': 0.1}, power: 96.00999999999999\n",
      "criterion: t-test, params: {'effect': 1, 'scale': 10, 'loc': 10, 'alpha': 0.01}, power: 2.96\n",
      "criterion: t-test, params: {'effect': 1, 'scale': 10, 'loc': 1, 'alpha': 0.01}, power: 2.91\n",
      "criterion: mannwhitneyu, params: {'effect': 1, 'scale': 10, 'loc': 10, 'alpha': 0.1}, power: 18.17\n",
      "criterion: mannwhitneyu, params: {'effect': 5, 'scale': 10, 'loc': 10, 'alpha': 0.1}, power: 96.54\n",
      "criterion: mannwhitneyu, params: {'effect': 1, 'scale': 10, 'loc': 10, 'alpha': 0.01}, power: 2.93\n",
      "criterion: mannwhitneyu, params: {'effect': 1, 'scale': 10, 'loc': 1, 'alpha': 0.01}, power: 2.73\n",
      "\n",
      "distr: expon\n",
      "criterion: t-test, params: {'effect': 1, 'scale': 10, 'loc': 10, 'alpha': 0.1}, power: 31.509999999999998\n",
      "criterion: t-test, params: {'effect': 5, 'scale': 10, 'loc': 10, 'alpha': 0.1}, power: 99.96000000000001\n",
      "criterion: t-test, params: {'effect': 1, 'scale': 10, 'loc': 10, 'alpha': 0.01}, power: 8.1\n",
      "criterion: t-test, params: {'effect': 1, 'scale': 10, 'loc': 1, 'alpha': 0.01}, power: 7.61\n",
      "criterion: mannwhitneyu, params: {'effect': 1, 'scale': 10, 'loc': 10, 'alpha': 0.1}, power: 31.71\n",
      "criterion: mannwhitneyu, params: {'effect': 5, 'scale': 10, 'loc': 10, 'alpha': 0.1}, power: 99.97\n",
      "criterion: mannwhitneyu, params: {'effect': 1, 'scale': 10, 'loc': 10, 'alpha': 0.01}, power: 7.85\n",
      "criterion: mannwhitneyu, params: {'effect': 1, 'scale': 10, 'loc': 1, 'alpha': 0.01}, power: 7.64\n",
      "\n"
     ]
    }
   ],
   "source": [
    "for i in distributions:\n",
    "    print(f'distr: {i}')\n",
    "    for j in criterions:\n",
    "        for param in params:\n",
    "            criterion_power = get_criterion_power(criterion=criterions[j], distr=distributions[i], **param)\n",
    "            print(f'criterion: {j}, params: {param}, power: {criterion_power}')\n",
    "    print()"
   ]
  },
  {
   "cell_type": "markdown",
   "id": "1700ecae-b669-4ab2-bbae-542abc87a2c4",
   "metadata": {},
   "source": [
    "### 4. Корректность критериев "
   ]
  },
  {
   "cell_type": "markdown",
   "id": "efe055c0-3f98-48d6-bd73-36c09705c232",
   "metadata": {},
   "source": [
    "##### Общая функция"
   ]
  },
  {
   "cell_type": "code",
   "execution_count": 579,
   "id": "976f064b-ba21-45aa-ab2a-a1c2e8cedde7",
   "metadata": {},
   "outputs": [],
   "source": [
    "def get_criterion_pvalues(criterion, distr, effect=1, scale=3, loc=10, alpha=0.05):\n",
    "    size = 100\n",
    "    n_exp = 10_000\n",
    "    alpha = alpha\n",
    "    effect = effect\n",
    "        \n",
    "    p_values = []\n",
    "    for i in range(n_exp):\n",
    "        x_a = distr(loc=loc, scale=scale, size=size)\n",
    "        x_b = distr(loc=loc + effect, scale=scale, size=size)\n",
    "        p_value = sps.ttest_ind(x_a, x_b).pvalue\n",
    "        p_value = sps.mannwhitneyu(x_a, x_b).pvalue\n",
    "        \n",
    "        p_values.append(p_value)\n",
    "    p_values = np.array(p_values)\n",
    "    \n",
    "    return p_values "
   ]
  },
  {
   "cell_type": "markdown",
   "id": "4d4d3a3b-39c6-4854-8791-c9520550817f",
   "metadata": {},
   "source": [
    "##### Параметры, которые будут перебираться в функции выше"
   ]
  },
  {
   "cell_type": "code",
   "execution_count": 582,
   "id": "5e218855-55a8-4874-aa2b-aefa8317607f",
   "metadata": {},
   "outputs": [],
   "source": [
    "distributions = {'norm': sps.norm.rvs,\n",
    "                 'expon': sps.expon.rvs}\n",
    "\n",
    "criterions = {'t-test': sps.ttest_ind, \n",
    "              'mannwhitneyu': sps.mannwhitneyu}\n",
    "\n",
    "params = [dict(effect=1, scale=10, loc=10, alpha=0.1),\n",
    "         dict(effect=5, scale=10, loc=10, alpha=0.1),\n",
    "         dict(effect=1, scale=10, loc=10, alpha=0.01),\n",
    "         dict(effect=1, scale=10, loc=1, alpha=0.01)]"
   ]
  },
  {
   "cell_type": "markdown",
   "id": "b16dd99a-c7b6-40df-ba04-038895aad218",
   "metadata": {},
   "source": [
    "##### Эксперименты"
   ]
  },
  {
   "cell_type": "code",
   "execution_count": 584,
   "id": "12f47f12-24e4-4887-ad2e-6b1ccbc3a1f3",
   "metadata": {},
   "outputs": [
    {
     "name": "stdout",
     "output_type": "stream",
     "text": [
      "distr: norm\n",
      "criterion: t-test, params: {'effect': 1, 'scale': 10, 'loc': 10, 'alpha': 0.1}\n",
      "criterion: t-test, params: {'effect': 5, 'scale': 10, 'loc': 10, 'alpha': 0.1}\n",
      "criterion: t-test, params: {'effect': 1, 'scale': 10, 'loc': 10, 'alpha': 0.01}\n",
      "criterion: t-test, params: {'effect': 1, 'scale': 10, 'loc': 1, 'alpha': 0.01}\n",
      "criterion: mannwhitneyu, params: {'effect': 1, 'scale': 10, 'loc': 10, 'alpha': 0.1}\n",
      "criterion: mannwhitneyu, params: {'effect': 5, 'scale': 10, 'loc': 10, 'alpha': 0.1}\n",
      "criterion: mannwhitneyu, params: {'effect': 1, 'scale': 10, 'loc': 10, 'alpha': 0.01}\n",
      "criterion: mannwhitneyu, params: {'effect': 1, 'scale': 10, 'loc': 1, 'alpha': 0.01}\n",
      "distr: expon\n",
      "criterion: t-test, params: {'effect': 1, 'scale': 10, 'loc': 10, 'alpha': 0.1}\n",
      "criterion: t-test, params: {'effect': 5, 'scale': 10, 'loc': 10, 'alpha': 0.1}\n",
      "criterion: t-test, params: {'effect': 1, 'scale': 10, 'loc': 10, 'alpha': 0.01}\n",
      "criterion: t-test, params: {'effect': 1, 'scale': 10, 'loc': 1, 'alpha': 0.01}\n",
      "criterion: mannwhitneyu, params: {'effect': 1, 'scale': 10, 'loc': 10, 'alpha': 0.1}\n",
      "criterion: mannwhitneyu, params: {'effect': 5, 'scale': 10, 'loc': 10, 'alpha': 0.1}\n",
      "criterion: mannwhitneyu, params: {'effect': 1, 'scale': 10, 'loc': 10, 'alpha': 0.01}\n",
      "criterion: mannwhitneyu, params: {'effect': 1, 'scale': 10, 'loc': 1, 'alpha': 0.01}\n"
     ]
    }
   ],
   "source": [
    "for i in distributions:\n",
    "    print(f'distr: {i}')\n",
    "    for j in criterions:\n",
    "        for param in params:\n",
    "            pvalues = get_criterion_pvalues(criterion=criterions[j], distr=distributions[i], **param)\n",
    "            print(f'criterion: {j}, params: {param}')\n",
    "            probs = []\n",
    "            x = [0.01 * idx for idx in range(101)]\n",
    "            for idx in range(101):\n",
    "                alpha_step = 0.01 * idx\n",
    "                probs.append(p_values[p_values < alpha_step].shape[0] / p_values.shape[0])\n",
    "\n",
    "            fig = go.Figure([go.Scatter(x=x, y=probs, mode=\"markers\", name=\"p_value\"),\n",
    "                 go.Scatter(x=x, y=x, mode=\"lines\", name=\"uniform\")])\n",
    "            fig.update_layout(height=600, width=600, title=\"Q-Q plot\")\n",
    "            fig = go.Figure([go.Histogram(x=p_values, xbins={\"start\":0, \"end\":1, \"size\": 0.1})])            "
   ]
  },
  {
   "cell_type": "code",
   "execution_count": null,
   "id": "f1ae742a-e187-4b2b-a26c-d27489e0d4d3",
   "metadata": {},
   "outputs": [],
   "source": []
  }
 ],
 "metadata": {
  "kernelspec": {
   "display_name": "Python 3 (ipykernel)",
   "language": "python",
   "name": "python3"
  },
  "language_info": {
   "codemirror_mode": {
    "name": "ipython",
    "version": 3
   },
   "file_extension": ".py",
   "mimetype": "text/x-python",
   "name": "python",
   "nbconvert_exporter": "python",
   "pygments_lexer": "ipython3",
   "version": "3.10.8"
  }
 },
 "nbformat": 4,
 "nbformat_minor": 5
}
